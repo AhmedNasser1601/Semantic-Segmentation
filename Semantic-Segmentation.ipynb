{
 "cells": [
  {
   "cell_type": "code",
   "execution_count": 1,
   "id": "24ca8e87",
   "metadata": {
    "_cell_guid": "b1076dfc-b9ad-4769-8c92-a6c4dae69d19",
    "_uuid": "8f2839f25d086af736a60e9eeb907d3b93b6e0e5",
    "execution": {
     "iopub.execute_input": "2023-12-16T23:45:39.096635Z",
     "iopub.status.busy": "2023-12-16T23:45:39.095988Z",
     "iopub.status.idle": "2023-12-16T23:45:51.798061Z",
     "shell.execute_reply": "2023-12-16T23:45:51.797251Z"
    },
    "papermill": {
     "duration": 12.7102,
     "end_time": "2023-12-16T23:45:51.800576",
     "exception": false,
     "start_time": "2023-12-16T23:45:39.090376",
     "status": "completed"
    },
    "tags": []
   },
   "outputs": [
    {
     "name": "stderr",
     "output_type": "stream",
     "text": [
      "/opt/conda/lib/python3.10/site-packages/scipy/__init__.py:146: UserWarning: A NumPy version >=1.16.5 and <1.23.0 is required for this version of SciPy (detected version 1.24.3\n",
      "  warnings.warn(f\"A NumPy version >={np_minversion} and <{np_maxversion}\"\n"
     ]
    }
   ],
   "source": [
    "import os\n",
    "import cv2\n",
    "import numpy as np\n",
    "import pandas as pd\n",
    "import matplotlib.pyplot as plt\n",
    "from sklearn.model_selection import train_test_split\n",
    "from keras.utils import to_categorical\n",
    "from keras.models import Sequential\n",
    "from keras.layers import Input, Conv2D, MaxPooling2D, UpSampling2D, concatenate\n",
    "from keras.preprocessing.image import ImageDataGenerator, load_img, img_to_array"
   ]
  },
  {
   "cell_type": "code",
   "execution_count": 2,
   "id": "3c313a55",
   "metadata": {
    "execution": {
     "iopub.execute_input": "2023-12-16T23:45:51.810823Z",
     "iopub.status.busy": "2023-12-16T23:45:51.810193Z",
     "iopub.status.idle": "2023-12-16T23:45:51.814772Z",
     "shell.execute_reply": "2023-12-16T23:45:51.813897Z"
    },
    "papermill": {
     "duration": 0.011492,
     "end_time": "2023-12-16T23:45:51.816653",
     "exception": false,
     "start_time": "2023-12-16T23:45:51.805161",
     "status": "completed"
    },
    "tags": []
   },
   "outputs": [],
   "source": [
    "dataset_path = '/kaggle/input/semantic-segmentation'"
   ]
  },
  {
   "cell_type": "code",
   "execution_count": 3,
   "id": "dc413b6f",
   "metadata": {
    "execution": {
     "iopub.execute_input": "2023-12-16T23:45:51.825666Z",
     "iopub.status.busy": "2023-12-16T23:45:51.825336Z",
     "iopub.status.idle": "2023-12-16T23:45:55.734704Z",
     "shell.execute_reply": "2023-12-16T23:45:55.733792Z"
    },
    "papermill": {
     "duration": 3.91606,
     "end_time": "2023-12-16T23:45:55.736722",
     "exception": false,
     "start_time": "2023-12-16T23:45:51.820662",
     "status": "completed"
    },
    "tags": []
   },
   "outputs": [
    {
     "data": {
      "text/plain": [
       "['Frame 1  (1).jpg',\n",
       " 'Frame 1  (2).jpg',\n",
       " 'Frame 1  (3).jpg',\n",
       " 'Frame 1  (4).jpg',\n",
       " 'Frame 1  (5).jpg',\n",
       " 'Frame 1  (6).jpg',\n",
       " 'Frame 1  (7).jpg',\n",
       " 'Frame 1  (8).jpg',\n",
       " 'Frame 1  (9).jpg',\n",
       " 'Frame 1  (10).jpg',\n",
       " 'Frame 1  (11).jpg',\n",
       " 'Frame 1  (12).jpg',\n",
       " 'Frame 1  (13).jpg',\n",
       " 'Frame 1  (14).jpg',\n",
       " 'Frame 1  (15).jpg',\n",
       " 'Frame 1  (16).jpg',\n",
       " 'Frame 1  (17).jpg',\n",
       " 'Frame 1  (18).jpg',\n",
       " 'Frame 1  (19).jpg',\n",
       " 'Frame 1  (20).jpg',\n",
       " 'Frame 1  (21).jpg',\n",
       " 'Frame 1  (22).jpg',\n",
       " 'Frame 1  (23).jpg',\n",
       " 'Frame 1  (24).jpg',\n",
       " 'Frame 1  (25).jpg',\n",
       " 'Frame 1  (26).jpg',\n",
       " 'Frame 1  (27).jpg',\n",
       " 'Frame 1  (28).jpg',\n",
       " 'Frame 1  (29).jpg',\n",
       " 'Frame 1  (30).jpg',\n",
       " 'Frame 1  (31).jpg',\n",
       " 'Frame 1  (32).jpg',\n",
       " 'Frame 1  (33).jpg',\n",
       " 'Frame 1  (34).jpg',\n",
       " 'Frame 1  (35).jpg',\n",
       " 'Frame 1  (36).jpg',\n",
       " 'Frame 1  (37).jpg',\n",
       " 'Frame 1  (38).jpg',\n",
       " 'Frame 1  (39).jpg',\n",
       " 'Frame 1  (40).jpg',\n",
       " 'Frame 1  (41).jpg',\n",
       " 'Frame 1  (42).jpg',\n",
       " 'Frame 1  (43).jpg',\n",
       " 'Frame 1  (44).jpg',\n",
       " 'Frame 1  (45).jpg',\n",
       " 'Frame 1  (46).jpg',\n",
       " 'Frame 1  (47).jpg',\n",
       " 'Frame 1  (48).jpg',\n",
       " 'Frame 1  (49).jpg',\n",
       " 'Frame 1  (50).jpg',\n",
       " 'Frame 1  (51).jpg',\n",
       " 'Frame 1  (52).jpg',\n",
       " 'Frame 1  (53).jpg',\n",
       " 'Frame 1  (54).jpg',\n",
       " 'Frame 1  (55).jpg',\n",
       " 'Frame 1  (56).jpg',\n",
       " 'Frame 1  (57).jpg',\n",
       " 'Frame 1  (58).jpg',\n",
       " 'Frame 1  (59).jpg',\n",
       " 'Frame 1  (60).jpg',\n",
       " 'Frame 1  (61).jpg',\n",
       " 'Frame 1  (62).jpg',\n",
       " 'Frame 1  (63).jpg',\n",
       " 'Frame 1  (64).jpg',\n",
       " 'Frame 1  (65).jpg',\n",
       " 'Frame 1  (66).jpg',\n",
       " 'Frame 1  (67).jpg',\n",
       " 'Frame 1  (68).jpg',\n",
       " 'Frame 1  (69).jpg',\n",
       " 'Frame 1  (70).jpg',\n",
       " 'Frame 1  (71).jpg',\n",
       " 'Frame 1  (72).jpg',\n",
       " 'Frame 1  (73).jpg',\n",
       " 'Frame 1  (74).jpg',\n",
       " 'Frame 1  (75).jpg',\n",
       " 'Frame 1  (76).jpg',\n",
       " 'Frame 1  (77).jpg',\n",
       " 'Frame 1  (78).jpg',\n",
       " 'Frame 1  (79).jpg',\n",
       " 'Frame 1  (80).jpg',\n",
       " 'Frame 1  (81).jpg',\n",
       " 'Frame 1  (82).jpg',\n",
       " 'Frame 1  (83).jpg',\n",
       " 'Frame 1  (84).jpg',\n",
       " 'Frame 1  (85).jpg',\n",
       " 'Frame 1  (86).jpg',\n",
       " 'Frame 1  (87).jpg',\n",
       " 'Frame 1  (88).jpg',\n",
       " 'Frame 1  (89).jpg',\n",
       " 'Frame 1  (90).jpg',\n",
       " 'Frame 1  (91).jpg',\n",
       " 'Frame 1  (92).jpg',\n",
       " 'Frame 1  (93).jpg',\n",
       " 'Frame 1  (94).jpg',\n",
       " 'Frame 1  (95).jpg',\n",
       " 'Frame 1  (96).jpg',\n",
       " 'Frame 1  (97).jpg',\n",
       " 'Frame 1  (98).jpg',\n",
       " 'Frame 1  (99).jpg',\n",
       " 'Frame 1  (100).jpg']"
      ]
     },
     "execution_count": 3,
     "metadata": {},
     "output_type": "execute_result"
    }
   ],
   "source": [
    "image_files, images, masks = [], [], []\n",
    "\n",
    "for i in range(100):\n",
    "    image_files.append(f\"Frame 1  ({i+1}).jpg\")\n",
    "\n",
    "    # Load RGB image\n",
    "    image_path = os.path.join(dataset_path, image_files[i])\n",
    "    img = load_img(image_path, target_size=(224, 224))\n",
    "    img_array = img_to_array(img) / 255.0  # Normalize pixels\n",
    "    images.append(img_array)\n",
    "\n",
    "    # Load corresponding mask\n",
    "    mask_path = os.path.join(dataset_path, f\"{image_files[i]}___fuse.png\")\n",
    "    mask = load_img(mask_path, target_size=(224, 224), color_mode='grayscale')\n",
    "    mask_array = img_to_array(mask) / 255.0  # Normalize pixels\n",
    "    masks.append(mask_array)\n",
    "\n",
    "image_files"
   ]
  },
  {
   "cell_type": "code",
   "execution_count": 4,
   "id": "6236b30a",
   "metadata": {
    "execution": {
     "iopub.execute_input": "2023-12-16T23:45:55.746478Z",
     "iopub.status.busy": "2023-12-16T23:45:55.746206Z",
     "iopub.status.idle": "2023-12-16T23:45:55.775446Z",
     "shell.execute_reply": "2023-12-16T23:45:55.774687Z"
    },
    "papermill": {
     "duration": 0.03639,
     "end_time": "2023-12-16T23:45:55.777616",
     "exception": false,
     "start_time": "2023-12-16T23:45:55.741226",
     "status": "completed"
    },
    "tags": []
   },
   "outputs": [],
   "source": [
    "images = np.array(images)\n",
    "masks = np.array(masks)"
   ]
  },
  {
   "cell_type": "code",
   "execution_count": 5,
   "id": "b46906a4",
   "metadata": {
    "execution": {
     "iopub.execute_input": "2023-12-16T23:45:55.787322Z",
     "iopub.status.busy": "2023-12-16T23:45:55.787061Z",
     "iopub.status.idle": "2023-12-16T23:45:55.812240Z",
     "shell.execute_reply": "2023-12-16T23:45:55.811220Z"
    },
    "papermill": {
     "duration": 0.032367,
     "end_time": "2023-12-16T23:45:55.814398",
     "exception": false,
     "start_time": "2023-12-16T23:45:55.782031",
     "status": "completed"
    },
    "tags": []
   },
   "outputs": [],
   "source": [
    "train_images, val_images, train_masks, val_masks = train_test_split(\n",
    "    images, masks, test_size=0.2, random_state=42, shuffle=True\n",
    ")"
   ]
  },
  {
   "cell_type": "code",
   "execution_count": 6,
   "id": "9b5f7a05",
   "metadata": {
    "execution": {
     "iopub.execute_input": "2023-12-16T23:45:55.824270Z",
     "iopub.status.busy": "2023-12-16T23:45:55.823959Z",
     "iopub.status.idle": "2023-12-16T23:45:56.013683Z",
     "shell.execute_reply": "2023-12-16T23:45:56.012688Z"
    },
    "papermill": {
     "duration": 0.197226,
     "end_time": "2023-12-16T23:45:56.016036",
     "exception": false,
     "start_time": "2023-12-16T23:45:55.818810",
     "status": "completed"
    },
    "tags": []
   },
   "outputs": [],
   "source": [
    "# Convert masks to one-hot encoding\n",
    "train_masks = to_categorical(train_masks, num_classes=11)\n",
    "val_masks = to_categorical(val_masks, num_classes=11)"
   ]
  },
  {
   "cell_type": "code",
   "execution_count": 7,
   "id": "55d5cecf",
   "metadata": {
    "execution": {
     "iopub.execute_input": "2023-12-16T23:45:56.025852Z",
     "iopub.status.busy": "2023-12-16T23:45:56.025499Z",
     "iopub.status.idle": "2023-12-16T23:45:56.030252Z",
     "shell.execute_reply": "2023-12-16T23:45:56.029445Z"
    },
    "papermill": {
     "duration": 0.011718,
     "end_time": "2023-12-16T23:45:56.032184",
     "exception": false,
     "start_time": "2023-12-16T23:45:56.020466",
     "status": "completed"
    },
    "tags": []
   },
   "outputs": [],
   "source": [
    "# Data Augmentation\n",
    "datagen = ImageDataGenerator(\n",
    "    rotation_range=20,\n",
    "    width_shift_range=0.2,\n",
    "    height_shift_range=0.2,\n",
    "    shear_range=0.2,\n",
    "    zoom_range=0.2,\n",
    "    horizontal_flip=True,\n",
    "    vertical_flip=True,\n",
    "    fill_mode='nearest'\n",
    ")"
   ]
  },
  {
   "cell_type": "code",
   "execution_count": 8,
   "id": "d0ac153f",
   "metadata": {
    "execution": {
     "iopub.execute_input": "2023-12-16T23:45:56.041603Z",
     "iopub.status.busy": "2023-12-16T23:45:56.041274Z",
     "iopub.status.idle": "2023-12-16T23:45:59.141230Z",
     "shell.execute_reply": "2023-12-16T23:45:59.140370Z"
    },
    "papermill": {
     "duration": 3.107199,
     "end_time": "2023-12-16T23:45:59.143546",
     "exception": false,
     "start_time": "2023-12-16T23:45:56.036347",
     "status": "completed"
    },
    "tags": []
   },
   "outputs": [],
   "source": [
    "# U-Net model\n",
    "model = Sequential(name='U-Net')\n",
    "\n",
    "# Encoder\n",
    "model.add(Conv2D(64, (3, 3), activation='relu', padding='same', input_shape=(224, 224, 3)))\n",
    "model.add(Conv2D(64, (3, 3), activation='relu', padding='same'))\n",
    "model.add(MaxPooling2D(pool_size=(2, 2)))\n",
    "\n",
    "model.add(Conv2D(128, (3, 3), activation='relu', padding='same'))\n",
    "model.add(Conv2D(128, (3, 3), activation='relu', padding='same'))\n",
    "model.add(MaxPooling2D(pool_size=(2, 2)))\n",
    "\n",
    "model.add(Conv2D(256, (3, 3), activation='relu', padding='same'))\n",
    "model.add(Conv2D(256, (3, 3), activation='relu', padding='same'))\n",
    "model.add(MaxPooling2D(pool_size=(2, 2)))\n",
    "\n",
    "# Bottleneck\n",
    "model.add(Conv2D(512, (3, 3), activation='relu', padding='same'))\n",
    "model.add(Conv2D(512, (3, 3), activation='relu', padding='same'))\n",
    "\n",
    "# Decoder\n",
    "model.add(UpSampling2D(size=(2, 2)))\n",
    "model.add(Conv2D(256, (3, 3), activation='relu', padding='same'))\n",
    "model.add(Conv2D(256, (3, 3), activation='relu', padding='same'))\n",
    "\n",
    "model.add(UpSampling2D(size=(2, 2)))\n",
    "model.add(Conv2D(128, (3, 3), activation='relu', padding='same'))\n",
    "model.add(Conv2D(128, (3, 3), activation='relu', padding='same'))\n",
    "\n",
    "model.add(UpSampling2D(size=(2, 2)))\n",
    "model.add(Conv2D(64, (3, 3), activation='relu', padding='same'))\n",
    "model.add(Conv2D(64, (3, 3), activation='relu', padding='same'))\n",
    "\n",
    "# Output\n",
    "model.add(Conv2D(11, (1, 1), activation='softmax'))"
   ]
  },
  {
   "cell_type": "code",
   "execution_count": 9,
   "id": "d8611cc4",
   "metadata": {
    "execution": {
     "iopub.execute_input": "2023-12-16T23:45:59.153478Z",
     "iopub.status.busy": "2023-12-16T23:45:59.153167Z",
     "iopub.status.idle": "2023-12-16T23:45:59.168393Z",
     "shell.execute_reply": "2023-12-16T23:45:59.167731Z"
    },
    "papermill": {
     "duration": 0.022237,
     "end_time": "2023-12-16T23:45:59.170311",
     "exception": false,
     "start_time": "2023-12-16T23:45:59.148074",
     "status": "completed"
    },
    "tags": []
   },
   "outputs": [],
   "source": [
    "model.compile(optimizer='adam', loss='categorical_crossentropy', metrics=['accuracy'])"
   ]
  },
  {
   "cell_type": "code",
   "execution_count": 10,
   "id": "b3427600",
   "metadata": {
    "execution": {
     "iopub.execute_input": "2023-12-16T23:45:59.179642Z",
     "iopub.status.busy": "2023-12-16T23:45:59.179337Z",
     "iopub.status.idle": "2023-12-16T23:45:59.232177Z",
     "shell.execute_reply": "2023-12-16T23:45:59.231263Z"
    },
    "papermill": {
     "duration": 0.073864,
     "end_time": "2023-12-16T23:45:59.248258",
     "exception": false,
     "start_time": "2023-12-16T23:45:59.174394",
     "status": "completed"
    },
    "tags": []
   },
   "outputs": [
    {
     "name": "stdout",
     "output_type": "stream",
     "text": [
      "Model: \"U-Net\"\n",
      "_________________________________________________________________\n",
      " Layer (type)                Output Shape              Param #   \n",
      "=================================================================\n",
      " conv2d (Conv2D)             (None, 224, 224, 64)      1792      \n",
      "                                                                 \n",
      " conv2d_1 (Conv2D)           (None, 224, 224, 64)      36928     \n",
      "                                                                 \n",
      " max_pooling2d (MaxPooling2  (None, 112, 112, 64)      0         \n",
      " D)                                                              \n",
      "                                                                 \n",
      " conv2d_2 (Conv2D)           (None, 112, 112, 128)     73856     \n",
      "                                                                 \n",
      " conv2d_3 (Conv2D)           (None, 112, 112, 128)     147584    \n",
      "                                                                 \n",
      " max_pooling2d_1 (MaxPoolin  (None, 56, 56, 128)       0         \n",
      " g2D)                                                            \n",
      "                                                                 \n",
      " conv2d_4 (Conv2D)           (None, 56, 56, 256)       295168    \n",
      "                                                                 \n",
      " conv2d_5 (Conv2D)           (None, 56, 56, 256)       590080    \n",
      "                                                                 \n",
      " max_pooling2d_2 (MaxPoolin  (None, 28, 28, 256)       0         \n",
      " g2D)                                                            \n",
      "                                                                 \n",
      " conv2d_6 (Conv2D)           (None, 28, 28, 512)       1180160   \n",
      "                                                                 \n",
      " conv2d_7 (Conv2D)           (None, 28, 28, 512)       2359808   \n",
      "                                                                 \n",
      " up_sampling2d (UpSampling2  (None, 56, 56, 512)       0         \n",
      " D)                                                              \n",
      "                                                                 \n",
      " conv2d_8 (Conv2D)           (None, 56, 56, 256)       1179904   \n",
      "                                                                 \n",
      " conv2d_9 (Conv2D)           (None, 56, 56, 256)       590080    \n",
      "                                                                 \n",
      " up_sampling2d_1 (UpSamplin  (None, 112, 112, 256)     0         \n",
      " g2D)                                                            \n",
      "                                                                 \n",
      " conv2d_10 (Conv2D)          (None, 112, 112, 128)     295040    \n",
      "                                                                 \n",
      " conv2d_11 (Conv2D)          (None, 112, 112, 128)     147584    \n",
      "                                                                 \n",
      " up_sampling2d_2 (UpSamplin  (None, 224, 224, 128)     0         \n",
      " g2D)                                                            \n",
      "                                                                 \n",
      " conv2d_12 (Conv2D)          (None, 224, 224, 64)      73792     \n",
      "                                                                 \n",
      " conv2d_13 (Conv2D)          (None, 224, 224, 64)      36928     \n",
      "                                                                 \n",
      " conv2d_14 (Conv2D)          (None, 224, 224, 11)      715       \n",
      "                                                                 \n",
      "=================================================================\n",
      "Total params: 7009419 (26.74 MB)\n",
      "Trainable params: 7009419 (26.74 MB)\n",
      "Non-trainable params: 0 (0.00 Byte)\n",
      "_________________________________________________________________\n"
     ]
    }
   ],
   "source": [
    "model.summary()"
   ]
  },
  {
   "cell_type": "code",
   "execution_count": 11,
   "id": "7cbb4fcc",
   "metadata": {
    "execution": {
     "iopub.execute_input": "2023-12-16T23:45:59.266461Z",
     "iopub.status.busy": "2023-12-16T23:45:59.265977Z",
     "iopub.status.idle": "2023-12-16T23:46:45.571071Z",
     "shell.execute_reply": "2023-12-16T23:46:45.570094Z"
    },
    "papermill": {
     "duration": 46.316468,
     "end_time": "2023-12-16T23:46:45.573258",
     "exception": false,
     "start_time": "2023-12-16T23:45:59.256790",
     "status": "completed"
    },
    "tags": []
   },
   "outputs": [
    {
     "name": "stdout",
     "output_type": "stream",
     "text": [
      "Epoch 1/10\n",
      "3/3 [==============================] - 31s 5s/step - loss: 1.3761 - accuracy: 0.5960 - val_loss: 0.1392 - val_accuracy: 0.9954\n",
      "Epoch 2/10\n",
      "3/3 [==============================] - 2s 606ms/step - loss: 1.6196e-08 - accuracy: 1.0000 - val_loss: 44.6569 - val_accuracy: 0.9360\n",
      "Epoch 3/10\n",
      "3/3 [==============================] - 2s 393ms/step - loss: 0.0000e+00 - accuracy: 1.0000 - val_loss: 39346.8828 - val_accuracy: 0.0045\n",
      "Epoch 4/10\n",
      "3/3 [==============================] - 2s 448ms/step - loss: 0.0000e+00 - accuracy: 1.0000 - val_loss: 225349.7031 - val_accuracy: 7.9719e-05\n",
      "Epoch 5/10\n",
      "3/3 [==============================] - 2s 411ms/step - loss: 0.0000e+00 - accuracy: 1.0000 - val_loss: 641325.3125 - val_accuracy: 1.9930e-05\n",
      "Epoch 6/10\n",
      "3/3 [==============================] - 2s 416ms/step - loss: 0.0000e+00 - accuracy: 1.0000 - val_loss: 1292350.1250 - val_accuracy: 0.0000e+00\n",
      "Epoch 7/10\n",
      "3/3 [==============================] - 2s 606ms/step - loss: 0.0000e+00 - accuracy: 1.0000 - val_loss: 2114513.7500 - val_accuracy: 0.0000e+00\n",
      "Epoch 8/10\n",
      "3/3 [==============================] - 2s 427ms/step - loss: 0.0000e+00 - accuracy: 1.0000 - val_loss: 3016598.0000 - val_accuracy: 0.0000e+00\n",
      "Epoch 9/10\n",
      "3/3 [==============================] - 2s 416ms/step - loss: 0.0000e+00 - accuracy: 1.0000 - val_loss: 3919016.0000 - val_accuracy: 0.0000e+00\n",
      "Epoch 10/10\n",
      "3/3 [==============================] - 2s 403ms/step - loss: 0.0000e+00 - accuracy: 1.0000 - val_loss: 4794417.5000 - val_accuracy: 0.0000e+00\n"
     ]
    }
   ],
   "source": [
    "history = model.fit(\n",
    "    datagen.flow(train_images, train_masks, batch_size=32),\n",
    "    epochs=10,\n",
    "    validation_data=(val_images, val_masks)\n",
    ")"
   ]
  },
  {
   "cell_type": "code",
   "execution_count": 12,
   "id": "b7b8469c",
   "metadata": {
    "execution": {
     "iopub.execute_input": "2023-12-16T23:46:45.599240Z",
     "iopub.status.busy": "2023-12-16T23:46:45.598938Z",
     "iopub.status.idle": "2023-12-16T23:46:45.890149Z",
     "shell.execute_reply": "2023-12-16T23:46:45.889217Z"
    },
    "papermill": {
     "duration": 0.306337,
     "end_time": "2023-12-16T23:46:45.892107",
     "exception": false,
     "start_time": "2023-12-16T23:46:45.585770",
     "status": "completed"
    },
    "tags": []
   },
   "outputs": [
    {
     "name": "stdout",
     "output_type": "stream",
     "text": [
      "1/1 [==============================] - 0s 147ms/step - loss: 4794417.5000 - accuracy: 0.0000e+00\n"
     ]
    }
   ],
   "source": [
    "test_loss, test_accuracy = model.evaluate(val_images, val_masks)"
   ]
  }
 ],
 "metadata": {
  "kaggle": {
   "accelerator": "gpu",
   "dataSources": [
    {
     "datasetId": 4142900,
     "sourceId": 7170525,
     "sourceType": "datasetVersion"
    }
   ],
   "dockerImageVersionId": 30627,
   "isGpuEnabled": true,
   "isInternetEnabled": true,
   "language": "python",
   "sourceType": "notebook"
  },
  "kernelspec": {
   "display_name": "Python 3",
   "language": "python",
   "name": "python3"
  },
  "language_info": {
   "codemirror_mode": {
    "name": "ipython",
    "version": 3
   },
   "file_extension": ".py",
   "mimetype": "text/x-python",
   "name": "python",
   "nbconvert_exporter": "python",
   "pygments_lexer": "ipython3",
   "version": "3.10.12"
  },
  "papermill": {
   "default_parameters": {},
   "duration": 72.538181,
   "end_time": "2023-12-16T23:46:48.287458",
   "environment_variables": {},
   "exception": null,
   "input_path": "__notebook__.ipynb",
   "output_path": "__notebook__.ipynb",
   "parameters": {},
   "start_time": "2023-12-16T23:45:35.749277",
   "version": "2.4.0"
  }
 },
 "nbformat": 4,
 "nbformat_minor": 5
}
